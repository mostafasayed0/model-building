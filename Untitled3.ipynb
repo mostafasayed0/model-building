{
 "cells": [
  {
   "cell_type": "code",
   "execution_count": 44,
   "id": "7763ff85",
   "metadata": {},
   "outputs": [],
   "source": [
    "from cobra import Model,Reaction,Metabolite"
   ]
  },
  {
   "cell_type": "code",
   "execution_count": 45,
   "id": "4d2ab06f",
   "metadata": {},
   "outputs": [],
   "source": [
    "import cobra"
   ]
  },
  {
   "cell_type": "code",
   "execution_count": 46,
   "id": "a2287a7b",
   "metadata": {},
   "outputs": [],
   "source": [
    "from cobra import Model,Reaction,Metabolite"
   ]
  },
  {
   "cell_type": "code",
   "execution_count": 47,
   "id": "a40cbb5c",
   "metadata": {},
   "outputs": [],
   "source": [
    "model=Model('first_model')"
   ]
  },
  {
   "cell_type": "code",
   "execution_count": 48,
   "id": "d09ebfdf",
   "metadata": {},
   "outputs": [],
   "source": [
    "r1=Reaction('r1')\n",
    "r1.name='r1'\n",
    "r1.lower_bound=0\n",
    "r1.upper_bound=1000"
   ]
  },
  {
   "cell_type": "code",
   "execution_count": 49,
   "id": "1be47633",
   "metadata": {},
   "outputs": [],
   "source": [
    "r2=Reaction('r2')\n",
    "r2.name='r2'\n",
    "r2.lower_bound=0\n",
    "r2.upper_bound=1000"
   ]
  },
  {
   "cell_type": "code",
   "execution_count": 50,
   "id": "b9adf726",
   "metadata": {},
   "outputs": [],
   "source": [
    "M=Reaction('M')\n",
    "M.name='M'\n",
    "M.lower_bound=0\n",
    "M.upper_bound=1000"
   ]
  },
  {
   "cell_type": "code",
   "execution_count": 51,
   "id": "394883a0",
   "metadata": {},
   "outputs": [],
   "source": [
    "r0=Reaction('r0')\n",
    "r0.name='r0'\n",
    "r0.lower_bound=1\n",
    "r0.upper_bound=1"
   ]
  },
  {
   "cell_type": "code",
   "execution_count": 52,
   "id": "19155a82",
   "metadata": {},
   "outputs": [],
   "source": [
    "r3=Reaction('r3')\n",
    "r3.name='r3'\n",
    "r3.lower_bound=.9\n",
    "r3.upper_bound=.9"
   ]
  },
  {
   "cell_type": "code",
   "execution_count": 53,
   "id": "e0772d63",
   "metadata": {},
   "outputs": [],
   "source": [
    "r4=Reaction('r4')\n",
    "r4.name='r4'\n",
    "r4.lower_bound=0\n",
    "r4.upper_bound=1000"
   ]
  },
  {
   "cell_type": "code",
   "execution_count": 54,
   "id": "0c2b9033",
   "metadata": {},
   "outputs": [],
   "source": [
    "A=Metabolite('A',compartment='c')\n",
    "B=Metabolite('B',compartment='c')\n",
    "C=Metabolite('C',compartment='c')\n",
    "ATP=Metabolite('ATP',compartment='c')"
   ]
  },
  {
   "cell_type": "code",
   "execution_count": 55,
   "id": "1d21ca62",
   "metadata": {},
   "outputs": [],
   "source": [
    "\n",
    "r1.add_metabolites({A:-1,B:1})\n",
    "\n",
    "\n",
    "r2.add_metabolites({B:-1,C:1})\n",
    "\n",
    "\n",
    "r0.add_metabolites({A:1})\n",
    "\n",
    "M.add_metabolites({C:-1})\n",
    "\n",
    "\n",
    "r3.add_metabolites({A:-1,ATP:1})\n",
    "\n",
    "r4.add_metabolites({ATP:-1})"
   ]
  },
  {
   "cell_type": "code",
   "execution_count": 56,
   "id": "10f3eb1c",
   "metadata": {},
   "outputs": [],
   "source": [
    "model.add_reactions([r0,r1,r2,r3,r4,M])"
   ]
  },
  {
   "cell_type": "code",
   "execution_count": 57,
   "id": "78a7ec89",
   "metadata": {},
   "outputs": [],
   "source": [
    "model.objective='M'"
   ]
  },
  {
   "cell_type": "code",
   "execution_count": 58,
   "id": "b93e6227",
   "metadata": {},
   "outputs": [
    {
     "data": {
      "text/html": [
       "<strong><em>Optimal</em> solution with objective value 0.100</strong><br><div>\n",
       "<style scoped>\n",
       "    .dataframe tbody tr th:only-of-type {\n",
       "        vertical-align: middle;\n",
       "    }\n",
       "\n",
       "    .dataframe tbody tr th {\n",
       "        vertical-align: top;\n",
       "    }\n",
       "\n",
       "    .dataframe thead th {\n",
       "        text-align: right;\n",
       "    }\n",
       "</style>\n",
       "<table border=\"1\" class=\"dataframe\">\n",
       "  <thead>\n",
       "    <tr style=\"text-align: right;\">\n",
       "      <th></th>\n",
       "      <th>fluxes</th>\n",
       "      <th>reduced_costs</th>\n",
       "    </tr>\n",
       "  </thead>\n",
       "  <tbody>\n",
       "    <tr>\n",
       "      <th>r0</th>\n",
       "      <td>1.0</td>\n",
       "      <td>2.0</td>\n",
       "    </tr>\n",
       "    <tr>\n",
       "      <th>r1</th>\n",
       "      <td>0.1</td>\n",
       "      <td>0.0</td>\n",
       "    </tr>\n",
       "    <tr>\n",
       "      <th>r2</th>\n",
       "      <td>0.1</td>\n",
       "      <td>0.0</td>\n",
       "    </tr>\n",
       "    <tr>\n",
       "      <th>r3</th>\n",
       "      <td>0.9</td>\n",
       "      <td>-2.0</td>\n",
       "    </tr>\n",
       "    <tr>\n",
       "      <th>r4</th>\n",
       "      <td>0.9</td>\n",
       "      <td>0.0</td>\n",
       "    </tr>\n",
       "    <tr>\n",
       "      <th>M</th>\n",
       "      <td>0.1</td>\n",
       "      <td>0.0</td>\n",
       "    </tr>\n",
       "  </tbody>\n",
       "</table>\n",
       "</div>"
      ],
      "text/plain": [
       "<Solution 0.100 at 0x10f1cb745b0>"
      ]
     },
     "execution_count": 58,
     "metadata": {},
     "output_type": "execute_result"
    }
   ],
   "source": [
    "model.optimize()"
   ]
  },
  {
   "cell_type": "code",
   "execution_count": 59,
   "id": "8b334b64",
   "metadata": {},
   "outputs": [
    {
     "data": {
      "text/html": [
       "<h3>Objective</h3><p>1.0 M = 0.09999999999999998</p><h4>Uptake</h4><table border=\"1\" class=\"dataframe\">\n",
       "  <thead>\n",
       "    <tr style=\"text-align: right;\">\n",
       "      <th>Metabolite</th>\n",
       "      <th>Reaction</th>\n",
       "      <th>Flux</th>\n",
       "      <th>C-Number</th>\n",
       "      <th>C-Flux</th>\n",
       "    </tr>\n",
       "  </thead>\n",
       "  <tbody>\n",
       "    <tr>\n",
       "      <td>A</td>\n",
       "      <td>r0</td>\n",
       "      <td>1</td>\n",
       "      <td>0</td>\n",
       "      <td>0.00%</td>\n",
       "    </tr>\n",
       "  </tbody>\n",
       "</table><h4>Secretion</h4><table border=\"1\" class=\"dataframe\">\n",
       "  <thead>\n",
       "    <tr style=\"text-align: right;\">\n",
       "      <th>Metabolite</th>\n",
       "      <th>Reaction</th>\n",
       "      <th>Flux</th>\n",
       "      <th>C-Number</th>\n",
       "      <th>C-Flux</th>\n",
       "    </tr>\n",
       "  </thead>\n",
       "  <tbody>\n",
       "    <tr>\n",
       "      <td>C</td>\n",
       "      <td>M</td>\n",
       "      <td>-0.1</td>\n",
       "      <td>0</td>\n",
       "      <td>0.00%</td>\n",
       "    </tr>\n",
       "    <tr>\n",
       "      <td>ATP</td>\n",
       "      <td>r4</td>\n",
       "      <td>-0.9</td>\n",
       "      <td>0</td>\n",
       "      <td>0.00%</td>\n",
       "    </tr>\n",
       "  </tbody>\n",
       "</table>"
      ],
      "text/plain": [
       "<cobra.summary.model_summary.ModelSummary at 0x10f1cb74700>"
      ]
     },
     "execution_count": 59,
     "metadata": {},
     "output_type": "execute_result"
    }
   ],
   "source": [
    "model.summary()"
   ]
  },
  {
   "cell_type": "code",
   "execution_count": null,
   "id": "5e68b3bb",
   "metadata": {},
   "outputs": [],
   "source": []
  }
 ],
 "metadata": {
  "kernelspec": {
   "display_name": "Python 3 (ipykernel)",
   "language": "python",
   "name": "python3"
  },
  "language_info": {
   "codemirror_mode": {
    "name": "ipython",
    "version": 3
   },
   "file_extension": ".py",
   "mimetype": "text/x-python",
   "name": "python",
   "nbconvert_exporter": "python",
   "pygments_lexer": "ipython3",
   "version": "3.9.7"
  }
 },
 "nbformat": 4,
 "nbformat_minor": 5
}
